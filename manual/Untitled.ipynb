{
 "cells": [
  {
   "cell_type": "code",
   "execution_count": 17,
   "metadata": {},
   "outputs": [
    {
     "data": {
      "text/markdown": [
       "This is the output from a minimal example\n",
       "\n",
       "The value of $x$ is 99, but {2*x} is not recognized.\n"
      ],
      "text/plain": [
       "<jupydoc.helpers.doc_formatter.<locals>.MimeBundleObject at 0x7fd80a795c90>"
      ]
     },
     "metadata": {},
     "output_type": "display_data"
    },
    {
     "name": "stdout",
     "output_type": "stream",
     "text": [
      "\n",
      "------\n",
      "Document saved to \"/mnt/c/Users/thbur/OneDrive/work/jupydoc/manual/Basic\"\n"
     ]
    }
   ],
   "source": [
    "from jupydoc import Publisher\n",
    "\n",
    "class Basic(Publisher):\n",
    "\n",
    "    def doit(self, x=99):\n",
    "        \"\"\"This is the output from a minimal example\n",
    "        \n",
    "        The value of $x$ is {x}, but {2*x} is not recognized.\n",
    "\n",
    "        \"\"\"\n",
    "        #-------- code ---------\n",
    "        #-----------------------\n",
    "\n",
    "        self.publishme()\n",
    "\n",
    "doc = Basic(docpath='.')\n",
    "doc.doit()\n",
    "doc.save()"
   ]
  },
  {
   "cell_type": "code",
   "execution_count": 15,
   "metadata": {},
   "outputs": [
    {
     "data": {
      "text/plain": [
       "\"def test():\\n    back =inspect.currentframe().f_back\\n    name=  inspect.getframeinfo(back).function\\n    locs = inspect.getargvalues(back).locals\\n    #doc = inspect.getdoc(eval(f'self.{name}'))\\n    #source = inspect.getsource(eval(f'self.{name}'))\\n    print(name)\\n\""
      ]
     },
     "execution_count": 15,
     "metadata": {},
     "output_type": "execute_result"
    }
   ],
   "source": [
    "import inspect\n",
    "\n",
    "def test():\n",
    "    back =inspect.currentframe().f_back\n",
    "    name=  inspect.getframeinfo(back).function\n",
    "    locs = inspect.getargvalues(back).locals\n",
    "    #doc = inspect.getdoc(eval(f'self.{name}'))\n",
    "    #source = inspect.getsource(eval(f'self.{name}'))\n",
    "    print(name)\n",
    "    \n",
    "obj = test\n",
    "inspect.getsource(obj)"
   ]
  },
  {
   "cell_type": "code",
   "execution_count": 18,
   "metadata": {},
   "outputs": [
    {
     "data": {
      "text/plain": [
       "(<jupydoc.helpers.doc_formatter.<locals>.MimeBundleObject at 0x7fd80a7954d0>,\n",
       " <jupydoc.helpers.doc_formatter.<locals>.MimeBundleObject at 0x7fd80a795c90>,\n",
       " <jupydoc.helpers.doc_formatter.<locals>.MimeBundleObject at 0x7fd80a7fee90>)"
      ]
     },
     "execution_count": 18,
     "metadata": {},
     "output_type": "execute_result"
    }
   ],
   "source": [
    "doc.data"
   ]
  },
  {
   "cell_type": "code",
   "execution_count": null,
   "metadata": {},
   "outputs": [],
   "source": []
  }
 ],
 "metadata": {
  "kernelspec": {
   "display_name": "Python 3",
   "language": "python",
   "name": "python3"
  },
  "language_info": {
   "codemirror_mode": {
    "name": "ipython",
    "version": 3
   },
   "file_extension": ".py",
   "mimetype": "text/x-python",
   "name": "python",
   "nbconvert_exporter": "python",
   "pygments_lexer": "ipython3",
   "version": "3.7.6"
  }
 },
 "nbformat": 4,
 "nbformat_minor": 4
}
