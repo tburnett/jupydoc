{
 "cells": [
  {
   "cell_type": "code",
   "execution_count": 5,
   "metadata": {},
   "outputs": [],
   "source": [
    "from jupydoc import DocMan"
   ]
  },
  {
   "cell_type": "code",
   "execution_count": 13,
   "metadata": {},
   "outputs": [
    {
     "data": {
      "text/plain": [
       " Modules                   Classes\n",
       "  jupydoc.\n",
       "    documents               ['Manual', 'Technicals']\n",
       "\n",
       "docspath: ../docs/jupydoc"
      ]
     },
     "execution_count": 13,
     "metadata": {},
     "output_type": "execute_result"
    }
   ],
   "source": [
    "os.makedirs('../docs/jupydoc', exist_ok=True)\n",
    "dm = DocMan('jupydoc' ,docspath='../docs/jupydoc'); dm"
   ]
  },
  {
   "cell_type": "code",
   "execution_count": 16,
   "metadata": {},
   "outputs": [
    {
     "name": "stdout",
     "output_type": "stream",
     "text": [
      "Not displaying:   0.0 title_page\n",
      "Not displaying:   1.0 introduction\n",
      "Not displaying:   2.0 basic\n",
      "Not displaying:   3.0 variable_formatting\n",
      "Not displaying:   3.1 scalars\n",
      "Not displaying:   3.2 list_and_dict\n",
      "Not displaying:   3.3 latex\n",
      "Not displaying:   3.4 images\n",
      "Not displaying:   3.5 figures\n",
      "Not displaying:   3.6 dataframes\n",
      "Not displaying:   3.7 other_formatting_options\n",
      "Not displaying:   4.0 making_a_document\n",
      "Not displaying:   4.1 class_docstring\n",
      "Not displaying:   4.2 document_generation\n",
      "Not displaying:   4.3 output_specification\n",
      "Not displaying:   5.0 multiple_documents\n",
      "Not displaying:   5.1 docman_setup\n",
      "Not displaying:   5.2 docman_usage\n",
      "Not displaying:   5.3 docman_web\n",
      "Not displaying:   6.0 workflow\n",
      "\n",
      "------\n",
      "Document saved to \"/mnt/d/OneDrive/work/docs/jupydoc/Manual\"\n"
     ]
    }
   ],
   "source": [
    "dm('Manual',)()"
   ]
  },
  {
   "cell_type": "code",
   "execution_count": null,
   "metadata": {},
   "outputs": [],
   "source": []
  }
 ],
 "metadata": {
  "kernelspec": {
   "display_name": "Python 3",
   "language": "python",
   "name": "python3"
  },
  "language_info": {
   "codemirror_mode": {
    "name": "ipython",
    "version": 3
   },
   "file_extension": ".py",
   "mimetype": "text/x-python",
   "name": "python",
   "nbconvert_exporter": "python",
   "pygments_lexer": "ipython3",
   "version": "3.7.6"
  }
 },
 "nbformat": 4,
 "nbformat_minor": 4
}
