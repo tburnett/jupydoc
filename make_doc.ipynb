{
 "cells": [
  {
   "cell_type": "code",
   "execution_count": 2,
   "metadata": {},
   "outputs": [
    {
     "data": {
      "text/plain": [
       " Modules                   Classes\n",
       "  jupydoc.\n",
       "    documents               ['Manual', 'Technicals']\n",
       "    index                   ['DocIndex']\n",
       "\n",
       "docspath: ../tburnett.github.io"
      ]
     },
     "execution_count": 2,
     "metadata": {},
     "output_type": "execute_result"
    }
   ],
   "source": [
    "from jupydoc import DocMan\n",
    "# from jupydoc import index, indexer; reload(index); reload(indexer);\n",
    "\n",
    "#os.makedirs('../docs/jupydoc', exist_ok=True)\n",
    "dm = DocMan('jupydoc' ,docspath='../tburnett.github.io')\n",
    "dm"
   ]
  },
  {
   "cell_type": "code",
   "execution_count": 4,
   "metadata": {},
   "outputs": [
    {
     "name": "stdout",
     "output_type": "stream",
     "text": [
      "Not displaying:   0.0 title_page\n",
      "Not displaying:   1.0 introduction\n",
      "Not displaying:   2.0 basic\n",
      "Not displaying:   3.0 variable_formatting\n",
      "Not displaying:   3.1 scalars\n",
      "Not displaying:   3.2 list_and_dict\n",
      "Not displaying:   3.3 latex\n",
      "Not displaying:   3.4 images\n",
      "Not displaying:   3.5 figures\n",
      "Not displaying:   3.6 dataframes\n",
      "Not displaying:   3.7 other_formatting_options\n",
      "Not displaying:   4.0 making_a_document\n",
      "Not displaying:   4.1 class_docstring\n",
      "Not displaying:   4.2 document_generation\n",
      "Not displaying:   4.3 output_specification\n",
      "Not displaying:   5.0 multiple_documents\n",
      "Not displaying:   5.1 docman_setup\n",
      "Not displaying:   5.2 docman_usage\n",
      "Updating Technicals\n",
      "Running the Index document for Technicals\n",
      "Not displaying:   0.0 title_page\n",
      "\n",
      "------\n",
      "Document saved to \"/mnt/c/Users/thbur/OneDrive/work/tburnett.github.io\"\n",
      "Not displaying:   5.3 docman_web\n",
      "Not displaying:   6.0 workflow\n",
      "Updating Manual\n",
      "Running the Index document for Manual\n",
      "Not displaying:   0.0 title_page\n",
      "\n",
      "------\n",
      "Document saved to \"/mnt/c/Users/thbur/OneDrive/work/tburnett.github.io\"\n",
      "\n",
      "------\n",
      "Document saved to \"/mnt/c/Users/thbur/OneDrive/work/tburnett.github.io/Manual\"\n"
     ]
    }
   ],
   "source": [
    "#self = dm('Technicals')\n",
    "self = dm('Manual')\n",
    "self()"
   ]
  },
  {
   "cell_type": "code",
   "execution_count": 3,
   "metadata": {},
   "outputs": [
    {
     "data": {
      "text/markdown": [
       "<a id=\"title_page\"></a><h2> Document Index\n",
       "</h2> \n",
       "\n",
       "This is a special, optional **index** document, meant to provide a top-level guide to the related \n",
       "documents in this folder. To be an index, the constructor must set the docname to \"\".\n",
       "\n",
       "\n",
       "<table order=\"1\" style=\"margin-left: 10px; text-align: left; vertical-align: text-top;\">\n",
       "<tbody>\n",
       " <tr>\n",
       "  <td \"text-align: left;\"><a href=\"Technicals/index.html?skipDecoration\">Technicals</a></td>\n",
       "<td \"text-align: left;\">2020-11-13 16:02</td>\n",
       "  <td \"text-align: left;\">JupyDoc technical detalis<br style=\"line-height:5x\"/>\n",
       "<p>This document contains various technical details.</p>\n",
       "  </td>\n",
       " </tr>\n",
       " <tr>\n",
       "  <td \"text-align: left;\"><a href=\"Manual/index.html?skipDecoration\">Manual</a></td>\n",
       "<td \"text-align: left;\">2020-11-13 16:02</td>\n",
       "  <td \"text-align: left;\">Jupydoc: Generate documents with Python code <br style=\"line-height:5x\"/>\n",
       "<p>This is a comprehensive manual for the Jupydoc document-creation system, \n",
       "which both describes and tests all its features.\n",
       "</p>\n",
       "  </td>\n",
       " </tr>\n",
       "</tbody></table>\n",
       "\n",
       "<p style=\"text-align: right;\"><a href=\"../index.html?skipDecoration\">back to index</a></p>\n"
      ],
      "text/plain": [
       "<jupydoc.helpers.doc_formatter.<locals>.MimeBundleObject at 0x7fe2be029810>"
      ]
     },
     "metadata": {},
     "output_type": "display_data"
    },
    {
     "name": "stdout",
     "output_type": "stream",
     "text": [
      "\n",
      "------\n",
      "Document saved to \"/mnt/c/Users/thbur/OneDrive/work/tburnett.github.io\"\n"
     ]
    }
   ],
   "source": [
    "self = dm('DocIndex'); self('title_page')"
   ]
  },
  {
   "cell_type": "code",
   "execution_count": 4,
   "metadata": {},
   "outputs": [
    {
     "data": {
      "text/plain": [
       "{'Manual': {'author': 'Toby Burnett <tburnett@uw.edu>',\n",
       "  'date': '2020-06-29 05:42',\n",
       "  'info': {'user_info': 'This is available to user.'},\n",
       "  'title': 'Jupydoc: Generate documents with Python code '},\n",
       " 'Technicals': {'author': '',\n",
       "  'date': '2020-11-13 13:24',\n",
       "  'info': {'abstract': 'This document contains various technical details.'},\n",
       "  'title': 'JupyDoc technical detalis'}}"
      ]
     },
     "execution_count": 4,
     "metadata": {},
     "output_type": "execute_result"
    }
   ],
   "source": [
    "from jupydoc import index, indexer; reload(index); reload(indexer);\n",
    "index = indexer.DocIndex(self); index.as_dict()"
   ]
  },
  {
   "cell_type": "code",
   "execution_count": 10,
   "metadata": {},
   "outputs": [
    {
     "name": "stdout",
     "output_type": "stream",
     "text": [
      "Manual       2020-06-29 05:42  Jupydoc: Generate documents with Python code \n",
      "Technicals   2020-11-13 13:24  JupyDoc technical detalis\n"
     ]
    }
   ],
   "source": [
    "for key, value in index.items():\n",
    "    print(f'{key:12s} {value[\"date\"]}  {value[\"title\"]}')\n",
    "    abstract = value.get('abstract','')\n",
    "    if abstract:\n",
    "        print(f'{}')"
   ]
  },
  {
   "cell_type": "code",
   "execution_count": null,
   "metadata": {},
   "outputs": [],
   "source": []
  },
  {
   "cell_type": "markdown",
   "metadata": {},
   "source": [
    "test<br style=\"line-height:10x\"/> me"
   ]
  },
  {
   "cell_type": "code",
   "execution_count": null,
   "metadata": {},
   "outputs": [],
   "source": []
  }
 ],
 "metadata": {
  "kernelspec": {
   "display_name": "Python 3",
   "language": "python",
   "name": "python3"
  },
  "language_info": {
   "codemirror_mode": {
    "name": "ipython",
    "version": 3
   },
   "file_extension": ".py",
   "mimetype": "text/x-python",
   "name": "python",
   "nbconvert_exporter": "python",
   "pygments_lexer": "ipython3",
   "version": "3.7.6"
  }
 },
 "nbformat": 4,
 "nbformat_minor": 4
}
