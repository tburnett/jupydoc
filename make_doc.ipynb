{
 "cells": [
  {
   "cell_type": "code",
   "execution_count": 1,
   "metadata": {},
   "outputs": [],
   "source": [
    "from jupydoc import DocMan\n",
    "from jupydoc import index, indexer; reload(index); reload(indexer);"
   ]
  },
  {
   "cell_type": "code",
   "execution_count": 2,
   "metadata": {},
   "outputs": [
    {
     "data": {
      "text/plain": [
       " Modules                   Classes\n",
       "  jupydoc.\n",
       "    documents               ['Manual', 'Technicals']\n",
       "    index                   ['Index']\n",
       "\n",
       "docspath: ../tburnett.github.io"
      ]
     },
     "execution_count": 2,
     "metadata": {},
     "output_type": "execute_result"
    }
   ],
   "source": [
    "#os.makedirs('../docs/jupydoc', exist_ok=True)\n",
    "dm = DocMan('jupydoc' ,docspath='../tburnett.github.io')\n",
    "dm"
   ]
  },
  {
   "cell_type": "code",
   "execution_count": 3,
   "metadata": {},
   "outputs": [
    {
     "name": "stdout",
     "output_type": "stream",
     "text": [
      "Not displaying:   0.0 title_page\n",
      "Not displaying:   1.0 introduction\n",
      "Not displaying:   2.0 basic\n",
      "Not displaying:   3.0 variable_formatting\n",
      "Not displaying:   3.1 scalars\n",
      "Not displaying:   3.2 list_and_dict\n",
      "Not displaying:   3.3 latex\n",
      "Not displaying:   3.4 images\n",
      "Not displaying:   3.5 figures\n",
      "Not displaying:   3.6 dataframes\n",
      "Not displaying:   3.7 other_formatting_options\n",
      "Not displaying:   4.0 making_a_document\n",
      "Not displaying:   4.1 class_docstring\n",
      "Not displaying:   4.2 document_generation\n",
      "Not displaying:   4.3 output_specification\n",
      "Not displaying:   5.0 multiple_documents\n",
      "Not displaying:   5.1 docman_setup\n",
      "Not displaying:   5.2 docman_usage\n",
      "Updating Technicals\n",
      "Running the Index document for Technicals\n",
      "Not displaying:   0.0 title_page\n",
      "\n",
      "------\n",
      "Document saved to \"/mnt/c/Users/thbur/OneDrive/work/tburnett.github.io\"\n",
      "Not displaying:   5.3 docman_web\n",
      "Not displaying:   6.0 workflow\n",
      "Updating Manual\n",
      "Running the Index document for Manual\n",
      "Not displaying:   0.0 title_page\n",
      "\n",
      "------\n",
      "Document saved to \"/mnt/c/Users/thbur/OneDrive/work/tburnett.github.io\"\n",
      "\n",
      "------\n",
      "Document saved to \"/mnt/c/Users/thbur/OneDrive/work/tburnett.github.io/Manual\"\n"
     ]
    }
   ],
   "source": [
    "self = dm('Manual') #dm('Manual',)\n",
    "self()"
   ]
  },
  {
   "cell_type": "code",
   "execution_count": 4,
   "metadata": {},
   "outputs": [
    {
     "name": "stdout",
     "output_type": "stream",
     "text": [
      "Running the Index document for Technicals\n",
      "Not displaying:   0.0 title_page\n",
      "\n",
      "------\n",
      "Document saved to \"/mnt/c/Users/thbur/OneDrive/work/tburnett.github.io\"\n",
      "<table order=\"1\" style=\"margin-left: 10px; text-align: left; vertical-align: text-top;\">\n",
      "<tbody>\n",
      " <tr>\n",
      "  <td \"text-align: left;\"><a href=\"Manual/index.html?skipDecoration\">Manual</a></td>\n",
      "<td \"text-align: left;\">2020-06-29 05:42</td>\n",
      "  <td \"text-align: left;\">Jupydoc: Generate documents with Python code <br>\n",
      "  </td>\n",
      " </tr>\n",
      " <tr>\n",
      "  <td \"text-align: left;\"><a href=\"Technicals/index.html?skipDecoration\">Technicals</a></td>\n",
      "<td \"text-align: left;\">2020-06-28 14:44</td>\n",
      "  <td \"text-align: left;\">JupyDoc technical detalis<br>\n",
      "This document contains various technical details.  </td>\n",
      " </tr>\n",
      "</tbody></table>\n",
      "\n"
     ]
    }
   ],
   "source": [
    "ind = self.docman.update(self)\n",
    "\n",
    "print(ind._repr_html_())"
   ]
  },
  {
   "cell_type": "code",
   "execution_count": 7,
   "metadata": {},
   "outputs": [
    {
     "data": {
      "text/plain": [
       "{'Technicals': {'author': '',\n",
       "  'date': '2020-06-28 14:44',\n",
       "  'info': {'abstract': 'This document contains various technical details.'},\n",
       "  'title': 'JupyDoc technical detalis'},\n",
       " 'Manual': {'author': 'Toby Burnett <tburnett@uw.edu>',\n",
       "  'date': '2020-06-29 05:42',\n",
       "  'info': {'user_info': 'This is available to user.'},\n",
       "  'title': 'Jupydoc: Generate documents with Python code '}}"
      ]
     },
     "execution_count": 7,
     "metadata": {},
     "output_type": "execute_result"
    }
   ],
   "source": [
    "d = ind.as_dict(); d\n"
   ]
  },
  {
   "cell_type": "code",
   "execution_count": 10,
   "metadata": {},
   "outputs": [
    {
     "data": {
      "text/plain": [
       "'This document contains various technical details.'"
      ]
     },
     "execution_count": 10,
     "metadata": {},
     "output_type": "execute_result"
    }
   ],
   "source": [
    "d['Technicals']['info']['abstract']"
   ]
  },
  {
   "cell_type": "code",
   "execution_count": 19,
   "metadata": {},
   "outputs": [
    {
     "data": {
      "text/plain": [
       "(['__call__',\n",
       "  '__class__',\n",
       "  '__delattr__',\n",
       "  '__dict__',\n",
       "  '__dir__',\n",
       "  '__doc__',\n",
       "  '__eq__',\n",
       "  '__format__',\n",
       "  '__ge__',\n",
       "  '__getattribute__',\n",
       "  '__gt__',\n",
       "  '__hash__',\n",
       "  '__init__',\n",
       "  '__init_subclass__',\n",
       "  '__le__',\n",
       "  '__lt__',\n",
       "  '__module__',\n",
       "  '__ne__',\n",
       "  '__new__',\n",
       "  '__reduce__',\n",
       "  '__reduce_ex__',\n",
       "  '__repr__',\n",
       "  '__setattr__',\n",
       "  '__sizeof__',\n",
       "  '__str__',\n",
       "  '__subclasshook__',\n",
       "  '__weakref__',\n",
       "  'class_name',\n",
       "  'class_obj',\n",
       "  'client',\n",
       "  'doc_classes',\n",
       "  'docspath',\n",
       "  'lookup_module',\n",
       "  'packages',\n",
       "  'setup_file',\n",
       "  'source_file',\n",
       "  'update',\n",
       "  'user_modules'],\n",
       " True)"
      ]
     },
     "execution_count": 19,
     "metadata": {},
     "output_type": "execute_result"
    }
   ],
   "source": [
    "dir(dm), 'Index' in dm.doc_classes"
   ]
  },
  {
   "cell_type": "code",
   "execution_count": 21,
   "metadata": {},
   "outputs": [
    {
     "data": {
      "text/plain": [
       "'jupydoc.index'"
      ]
     },
     "execution_count": 21,
     "metadata": {},
     "output_type": "execute_result"
    }
   ],
   "source": [
    "dm.lookup_module.get('Index', None)"
   ]
  },
  {
   "cell_type": "markdown",
   "metadata": {
    "jupyter": {
     "source_hidden": true
    }
   },
   "source": [
    "<table order=\"1\" style=\"margin-left: 10px; text-align: left; vertical-align: text-top; \">\n",
    " <tbody>\n",
    " <tr>\n",
    "  <td><a href=\"Manual/index.html?skipDecoration\">Manual</a></td>\n",
    "<td>2020-06-29 05:42</td>\n",
    "  <td>Jupydoc: Generate documents with Python code <br>\n",
    "  </td>\n",
    " </tr>\n",
    " <tr>\n",
    "  <td><a href=\"Technicals/index.html?skipDecoration\">Technicals</a></td>\n",
    "<td>2020-06-28 14:44</td>\n",
    "  <td>JupyDoc technical detalis<br>\n",
    "  </td>\n",
    " </tr>\n",
    "</tbody></table>"
   ]
  }
 ],
 "metadata": {
  "kernelspec": {
   "display_name": "Python 3",
   "language": "python",
   "name": "python3"
  },
  "language_info": {
   "codemirror_mode": {
    "name": "ipython",
    "version": 3
   },
   "file_extension": ".py",
   "mimetype": "text/x-python",
   "name": "python",
   "nbconvert_exporter": "python",
   "pygments_lexer": "ipython3",
   "version": "3.7.6"
  }
 },
 "nbformat": 4,
 "nbformat_minor": 4
}
