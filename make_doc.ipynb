{
 "cells": [
  {
   "cell_type": "code",
   "execution_count": 1,
   "metadata": {},
   "outputs": [
    {
     "data": {
      "text/plain": [
       " Modules                   Classes\n",
       "  jupydoc.\n",
       "    docpub                  ['Index']\n",
       "    documents               ['Manual', 'Technicals']\n",
       "\n",
       "docspath: ../tburnett.github.io"
      ]
     },
     "execution_count": 1,
     "metadata": {},
     "output_type": "execute_result"
    }
   ],
   "source": [
    "from jupydoc import DocMan\n",
    "# from jupydoc import index, indexer; reload(index); reload(indexer);\n",
    "\n",
    "#os.makedirs('../docs/jupydoc', exist_ok=True)\n",
    "dm = DocMan('jupydoc' ,docspath='../tburnett.github.io')\n",
    "dm"
   ]
  },
  {
   "cell_type": "code",
   "execution_count": 7,
   "metadata": {
    "collapsed": true,
    "jupyter": {
     "outputs_hidden": true
    }
   },
   "outputs": [
    {
     "name": "stdout",
     "output_type": "stream",
     "text": [
      "Not displaying:   0.0 title_page\n",
      "Not displaying:   1.0 introduction\n",
      "Not displaying:   2.0 basic\n",
      "Not displaying:   3.0 variable_formatting\n",
      "Not displaying:   3.1 scalars\n",
      "Not displaying:   3.2 list_and_dict\n",
      "Not displaying:   3.3 latex\n",
      "Not displaying:   3.4 images\n",
      "Not displaying:   3.5 figures\n",
      "Not displaying:   3.6 dataframes\n",
      "Not displaying:   3.7 other_formatting_options\n",
      "Not displaying:   4.0 making_a_document\n",
      "Not displaying:   4.1 class_docstring\n",
      "Not displaying:   4.2 document_generation\n",
      "Not displaying:   4.3 output_specification\n",
      "Not displaying:   5.0 multiple_documents\n",
      "Not displaying:   5.1 docman_setup\n",
      "Not displaying:   5.2 docman_usage\n",
      "Not displaying:   5.3 docman_web\n",
      "Not displaying:   5.4 index_document\n",
      "Not displaying:   6.0 workflow\n",
      "Updating Manual\n",
      "Running the Index document for Manual\n",
      "Not displaying:   0.0 title_page\n",
      "\n",
      "------\n",
      "Document Index saved to \"/mnt/c/Users/thbur/OneDrive/work/tburnett.github.io\"\n",
      "\n",
      "------\n",
      "Document Manual saved to \"/mnt/c/Users/thbur/OneDrive/work/tburnett.github.io/Manual\"\n"
     ]
    }
   ],
   "source": [
    "#self = dm('Technicals')\n",
    "self = dm('Manual')\n",
    "self()"
   ]
  },
  {
   "cell_type": "code",
   "execution_count": 14,
   "metadata": {},
   "outputs": [],
   "source": [
    "def nbdoc(userfun:'a function'):\n",
    "    \"\"\"Assume called from a jupyter cell, with a function of not args\n",
    "    which has a docstring in markdown format The code is extracted, a \n",
    "    function call appended, and then executed.\n",
    "    \"\"\"   \n",
    "    import inspect\n",
    "    import IPython.display as display\n",
    "    from jupydoc.replacer import ObjectReplacer\n",
    "    from jupydoc.helpers import doc_formatter, monospace, capture_print, shell\n",
    "    orep = ObjectReplacer()\n",
    "    # get the function's docstring, assumed to be MD\n",
    "    doc = inspect.cleandoc(userfun.__doc__)\n",
    "    \n",
    "    def _generate():\n",
    "        # gets local symbols\n",
    "        back =inspect.currentframe().f_back\n",
    "        locs = inspect.getargvalues(back).locals\n",
    "        \n",
    "        vars = locs\n",
    "        # replace variable objects if recognized\n",
    "        orep(vars)\n",
    "        # format the doc string, replacing recognized {..}\n",
    "        md_data = doc_formatter(doc, vars)\n",
    "        # have IPython display it\n",
    "        display.display( md_data )  \n",
    "\n",
    "    source, _ = inspect.getsourcelines(userfun)\n",
    "    assert source[0].startswith('def '), 'Expect first line to be a \"def\"'\n",
    "    code = inspect.cleandoc(''.join(source[1:]))\n",
    "\n",
    "    exec(code + '\\n_generate()')"
   ]
  },
  {
   "cell_type": "code",
   "execution_count": null,
   "metadata": {},
   "outputs": [],
   "source": []
  }
 ],
 "metadata": {
  "kernelspec": {
   "display_name": "Python 3",
   "language": "python",
   "name": "python3"
  },
  "language_info": {
   "codemirror_mode": {
    "name": "ipython",
    "version": 3
   },
   "file_extension": ".py",
   "mimetype": "text/x-python",
   "name": "python",
   "nbconvert_exporter": "python",
   "pygments_lexer": "ipython3",
   "version": "3.7.6"
  }
 },
 "nbformat": 4,
 "nbformat_minor": 4
}
