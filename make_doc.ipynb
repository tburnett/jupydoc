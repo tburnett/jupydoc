{
 "cells": [
  {
   "cell_type": "code",
   "execution_count": 1,
   "metadata": {},
   "outputs": [],
   "source": [
    "from jupydoc import DocMan\n",
    "from jupydoc import index, indexer; reload(index); reload(indexer);"
   ]
  },
  {
   "cell_type": "code",
   "execution_count": 2,
   "metadata": {},
   "outputs": [
    {
     "data": {
      "text/plain": [
       " Modules                   Classes\n",
       "  jupydoc.\n",
       "    documents               ['Manual', 'Technicals']\n",
       "    index                   ['Index']\n",
       "\n",
       "docspath: ../tburnett.github.io"
      ]
     },
     "execution_count": 2,
     "metadata": {},
     "output_type": "execute_result"
    }
   ],
   "source": [
    "#os.makedirs('../docs/jupydoc', exist_ok=True)\n",
    "dm = DocMan('jupydoc' ,docspath='../tburnett.github.io')\n",
    "dm"
   ]
  },
  {
   "cell_type": "code",
   "execution_count": 4,
   "metadata": {},
   "outputs": [
    {
     "name": "stdout",
     "output_type": "stream",
     "text": [
      "Not displaying:   0.0 title_page\n",
      "Not displaying:   1.0 client_example\n",
      "Not displaying:   2.0 object_replacement\n",
      "Updating Technicals\n",
      "Running the Index document for Technicals\n",
      "Not displaying:   0.0 title_page\n",
      "\n",
      "------\n",
      "Document saved to \"/mnt/c/Users/thbur/OneDrive/work/tburnett.github.io\"\n",
      "\n",
      "------\n",
      "Document saved to \"/mnt/c/Users/thbur/OneDrive/work/tburnett.github.io/Technicals\"\n"
     ]
    }
   ],
   "source": [
    "self = dm('Technicals') #dm('Manual',)\n",
    "self()"
   ]
  },
  {
   "cell_type": "code",
   "execution_count": 5,
   "metadata": {},
   "outputs": [
    {
     "name": "stdout",
     "output_type": "stream",
     "text": [
      "Running the Index document for Technicals\n",
      "Not displaying:   0.0 title_page\n",
      "\n",
      "------\n",
      "Document saved to \"/mnt/c/Users/thbur/OneDrive/work/tburnett.github.io\"\n",
      "<table order=\"1\" style=\"margin-left: 10px; text-align: left; vertical-align: text-top;\">\n",
      "<tbody>\n",
      " <tr>\n",
      "  <td \"text-align: left;\"><a href=\"Manual/index.html?skipDecoration\">Manual</a></td>\n",
      "<td \"text-align: left;\">2020-06-29 05:42</td>\n",
      "  <td \"text-align: left;\">Jupydoc: Generate documents with Python code <br>\n",
      "  </td>\n",
      " </tr>\n",
      " <tr>\n",
      "  <td \"text-align: left;\"><a href=\"Technicals/index.html?skipDecoration\">Technicals</a></td>\n",
      "<td \"text-align: left;\">2020-06-28 14:44</td>\n",
      "  <td \"text-align: left;\">JupyDoc technical detalis<br>\n",
      "This document contains various technical details.  </td>\n",
      " </tr>\n",
      "</tbody></table>\n",
      "\n"
     ]
    }
   ],
   "source": [
    "ind = self.docman.update(self)\n",
    "print(ind._repr_html_())"
   ]
  },
  {
   "cell_type": "markdown",
   "metadata": {},
   "source": [
    "<table order=\"1\" style=\"margin-left: 10px; text-align: left; vertical-align: text-top; \">\n",
    " <tbody>\n",
    " <tr>\n",
    "  <td><a href=\"Manual/index.html?skipDecoration\">Manual</a></td>\n",
    "<td>2020-06-29 05:42</td>\n",
    "  <td>Jupydoc: Generate documents with Python code <br>\n",
    "  </td>\n",
    " </tr>\n",
    " <tr>\n",
    "  <td><a href=\"Technicals/index.html?skipDecoration\">Technicals</a></td>\n",
    "<td>2020-06-28 14:44</td>\n",
    "  <td>JupyDoc technical detalis<br>\n",
    "  </td>\n",
    " </tr>\n",
    "</tbody></table>"
   ]
  },
  {
   "cell_type": "code",
   "execution_count": 7,
   "metadata": {},
   "outputs": [
    {
     "data": {
      "text/plain": [
       "{'Technicals': {'author': '',\n",
       "  'date': '2020-06-28 14:44',\n",
       "  'info': {'abstract': 'This document contains various technical details.'},\n",
       "  'title': 'JupyDoc technical detalis'},\n",
       " 'Manual': {'author': 'Toby Burnett <tburnett@uw.edu>',\n",
       "  'date': '2020-06-29 05:42',\n",
       "  'info': {'user_info': 'This is available to user.'},\n",
       "  'title': 'Jupydoc: Generate documents with Python code '}}"
      ]
     },
     "execution_count": 7,
     "metadata": {},
     "output_type": "execute_result"
    }
   ],
   "source": [
    "d = ind.as_dict(); d"
   ]
  },
  {
   "cell_type": "code",
   "execution_count": 10,
   "metadata": {},
   "outputs": [
    {
     "data": {
      "text/plain": [
       "'This document contains various technical details.'"
      ]
     },
     "execution_count": 10,
     "metadata": {},
     "output_type": "execute_result"
    }
   ],
   "source": [
    "d['Technicals']['info']['abstract']"
   ]
  },
  {
   "cell_type": "code",
   "execution_count": 3,
   "metadata": {},
   "outputs": [
    {
     "data": {
      "text/plain": [
       "'jupydoc.index'"
      ]
     },
     "execution_count": 3,
     "metadata": {},
     "output_type": "execute_result"
    }
   ],
   "source": [
    "dm.lookup_module.get('Index', None)"
   ]
  },
  {
   "cell_type": "code",
   "execution_count": 10,
   "metadata": {},
   "outputs": [
    {
     "data": {
      "text/plain": [
       "jupydoc.indexer.DocIndex"
      ]
     },
     "execution_count": 10,
     "metadata": {},
     "output_type": "execute_result"
    }
   ],
   "source": [
    "ind.__class__"
   ]
  },
  {
   "cell_type": "code",
   "execution_count": 11,
   "metadata": {},
   "outputs": [
    {
     "data": {
      "text/plain": [
       "['__call__',\n",
       " '__class__',\n",
       " '__contains__',\n",
       " '__delattr__',\n",
       " '__delitem__',\n",
       " '__dict__',\n",
       " '__dir__',\n",
       " '__doc__',\n",
       " '__eq__',\n",
       " '__format__',\n",
       " '__ge__',\n",
       " '__getattribute__',\n",
       " '__getitem__',\n",
       " '__gt__',\n",
       " '__hash__',\n",
       " '__init__',\n",
       " '__init_subclass__',\n",
       " '__iter__',\n",
       " '__le__',\n",
       " '__len__',\n",
       " '__lt__',\n",
       " '__module__',\n",
       " '__ne__',\n",
       " '__new__',\n",
       " '__reduce__',\n",
       " '__reduce_ex__',\n",
       " '__repr__',\n",
       " '__setattr__',\n",
       " '__setitem__',\n",
       " '__sizeof__',\n",
       " '__str__',\n",
       " '__subclasshook__',\n",
       " '__weakref__',\n",
       " '_repr_html_',\n",
       " 'as_dict',\n",
       " 'clear',\n",
       " 'copy',\n",
       " 'docspath',\n",
       " 'fromkeys',\n",
       " 'get',\n",
       " 'index_file',\n",
       " 'items',\n",
       " 'keys',\n",
       " 'pop',\n",
       " 'popitem',\n",
       " 'save',\n",
       " 'setdefault',\n",
       " 'to_html',\n",
       " 'update',\n",
       " 'values',\n",
       " 'verbose']"
      ]
     },
     "execution_count": 11,
     "metadata": {},
     "output_type": "execute_result"
    }
   ],
   "source": [
    "dir(ind)"
   ]
  },
  {
   "cell_type": "code",
   "execution_count": null,
   "metadata": {},
   "outputs": [],
   "source": []
  }
 ],
 "metadata": {
  "kernelspec": {
   "display_name": "Python 3",
   "language": "python",
   "name": "python3"
  },
  "language_info": {
   "codemirror_mode": {
    "name": "ipython",
    "version": 3
   },
   "file_extension": ".py",
   "mimetype": "text/x-python",
   "name": "python",
   "nbconvert_exporter": "python",
   "pygments_lexer": "ipython3",
   "version": "3.7.6"
  }
 },
 "nbformat": 4,
 "nbformat_minor": 4
}
