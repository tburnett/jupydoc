{
 "cells": [
  {
   "cell_type": "code",
   "execution_count": 1,
   "metadata": {},
   "outputs": [
    {
     "data": {
      "text/plain": [
       " Modules                   Classes\n",
       "  jupydoc.\n",
       "    documents               ['Manual', 'Technicals']\n",
       "    index                   ['DocIndex']\n",
       "\n",
       "docspath: ../tburnett.github.io"
      ]
     },
     "execution_count": 1,
     "metadata": {},
     "output_type": "execute_result"
    }
   ],
   "source": [
    "from jupydoc import DocMan\n",
    "# from jupydoc import index, indexer; reload(index); reload(indexer);\n",
    "\n",
    "#os.makedirs('../docs/jupydoc', exist_ok=True)\n",
    "dm = DocMan('jupydoc' ,docspath='../tburnett.github.io')\n",
    "dm"
   ]
  },
  {
   "cell_type": "code",
   "execution_count": 2,
   "metadata": {},
   "outputs": [
    {
     "name": "stdout",
     "output_type": "stream",
     "text": [
      "Setting DocMan.class_name to Technicals\n",
      "Not displaying:   0.0 title_page\n",
      "Not displaying:   1.0 client_example\n",
      "Not displaying:   2.0 object_replacement\n",
      "Updating Technicals\n",
      "Updating index and basic index.html\n",
      "\n",
      "------\n",
      "Document Technicals saved to \"/mnt/c/Users/thbur/OneDrive/work/tburnett.github.io/Technicals\"\n"
     ]
    }
   ],
   "source": [
    "self = dm('Technicals')\n",
    "#self = dm('Manual')\n",
    "self()"
   ]
  },
  {
   "cell_type": "code",
   "execution_count": 4,
   "metadata": {},
   "outputs": [
    {
     "name": "stdout",
     "output_type": "stream",
     "text": [
      "Setting DocMan.class_name to DocIndex\n"
     ]
    },
    {
     "data": {
      "text/markdown": [
       "<a id=\"title_page\"></a><h2> Document Index\n",
       "</h2> \n",
       "\n",
       "\n",
       "\n",
       "This is a base class, or and example for an optional **index** document, meant to provide a top-level guide to the related \n",
       "documents in this folder. To be an index, the document name must be \"Index\".\n",
       "\n",
       "\n",
       "<table order=\"1\" style=\"margin-left: 10px; text-align: left; vertical-align: text-top;\">\n",
       "<tbody>\n",
       " <tr>\n",
       "  <td \"text-align: left;\"><a href=\"DocIndex/index.html?skipDecoration\">DocIndex</a></td>\n",
       "<td \"text-align: left;\">2020-11-14 11:15</td>\n",
       "  <td \"text-align: left;\">Document Index<br style=\"line-height:5x\"/>\n",
       "<p>This is a base class, or and example for an optional **index** document, meant to provide a top-level guide to the related \n",
       "documents in this folder. To be an index, the document name must be \"Index\".\n",
       "</p>\n",
       "  </td>\n",
       " </tr>\n",
       " <tr>\n",
       "  <td \"text-align: left;\"><a href=\"Technicals/index.html?skipDecoration\">Technicals</a></td>\n",
       "<td \"text-align: left;\">2020-11-14 11:09</td>\n",
       "  <td \"text-align: left;\">JupyDoc technical detalis<br style=\"line-height:5x\"/>\n",
       "<p>This document contains various technical details.</p>\n",
       "  </td>\n",
       " </tr>\n",
       " <tr>\n",
       "  <td \"text-align: left;\"><a href=\"Manual/index.html?skipDecoration\">Manual</a></td>\n",
       "<td \"text-align: left;\">2020-11-14 11:01</td>\n",
       "  <td \"text-align: left;\">Jupydoc: Generate documents with Python code <br style=\"line-height:5x\"/>\n",
       "<p>This is a comprehensive manual for the Jupydoc document-creation system, \n",
       "which both describes and tests all its features.\n",
       "</p>\n",
       "  </td>\n",
       " </tr>\n",
       "</tbody></table>\n",
       "\n",
       "<p style=\"text-align: right;\"><a href=\"../index.html?skipDecoration\">back to index</a></p>\n"
      ],
      "text/plain": [
       "<jupydoc.helpers.doc_formatter.<locals>.MimeBundleObject at 0x7f1f7184de90>"
      ]
     },
     "metadata": {},
     "output_type": "display_data"
    },
    {
     "name": "stdout",
     "output_type": "stream",
     "text": [
      "Updating DocIndex\n",
      "Updating index and basic index.html\n",
      "\n",
      "------\n",
      "Document DocIndex saved to \"/mnt/c/Users/thbur/OneDrive/work/tburnett.github.io/DocIndex\"\n"
     ]
    }
   ],
   "source": [
    "self = dm('DocIndex'); self('title_page')"
   ]
  },
  {
   "cell_type": "code",
   "execution_count": 4,
   "metadata": {},
   "outputs": [
    {
     "data": {
      "text/plain": [
       "False"
      ]
     },
     "execution_count": 4,
     "metadata": {},
     "output_type": "execute_result"
    }
   ],
   "source": [
    "self.client_mode"
   ]
  },
  {
   "cell_type": "code",
   "execution_count": 4,
   "metadata": {},
   "outputs": [
    {
     "data": {
      "text/plain": [
       "{'Manual': {'author': 'Toby Burnett <tburnett@uw.edu>',\n",
       "  'date': '2020-06-29 05:42',\n",
       "  'info': {'user_info': 'This is available to user.'},\n",
       "  'title': 'Jupydoc: Generate documents with Python code '},\n",
       " 'Technicals': {'author': '',\n",
       "  'date': '2020-11-13 13:24',\n",
       "  'info': {'abstract': 'This document contains various technical details.'},\n",
       "  'title': 'JupyDoc technical detalis'}}"
      ]
     },
     "execution_count": 4,
     "metadata": {},
     "output_type": "execute_result"
    }
   ],
   "source": [
    "from jupydoc import index, indexer; reload(index); reload(indexer);\n",
    "index = indexer.DocIndex(self); index.as_dict()"
   ]
  },
  {
   "cell_type": "code",
   "execution_count": 10,
   "metadata": {},
   "outputs": [
    {
     "name": "stdout",
     "output_type": "stream",
     "text": [
      "Manual       2020-06-29 05:42  Jupydoc: Generate documents with Python code \n",
      "Technicals   2020-11-13 13:24  JupyDoc technical detalis\n"
     ]
    }
   ],
   "source": [
    "for key, value in index.items():\n",
    "    print(f'{key:12s} {value[\"date\"]}  {value[\"title\"]}')\n",
    "    abstract = value.get('abstract','')\n",
    "    if abstract:\n",
    "        print(f'{}')"
   ]
  },
  {
   "cell_type": "code",
   "execution_count": null,
   "metadata": {},
   "outputs": [],
   "source": []
  },
  {
   "cell_type": "markdown",
   "metadata": {},
   "source": [
    "test<br style=\"line-height:10x\"/> me"
   ]
  },
  {
   "cell_type": "code",
   "execution_count": null,
   "metadata": {},
   "outputs": [],
   "source": []
  }
 ],
 "metadata": {
  "kernelspec": {
   "display_name": "Python 3",
   "language": "python",
   "name": "python3"
  },
  "language_info": {
   "codemirror_mode": {
    "name": "ipython",
    "version": 3
   },
   "file_extension": ".py",
   "mimetype": "text/x-python",
   "name": "python",
   "nbconvert_exporter": "python",
   "pygments_lexer": "ipython3",
   "version": "3.7.6"
  }
 },
 "nbformat": 4,
 "nbformat_minor": 4
}
